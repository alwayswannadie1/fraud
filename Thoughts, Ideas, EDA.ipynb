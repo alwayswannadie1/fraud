{
 "cells": [
  {
   "cell_type": "code",
   "execution_count": 1,
   "metadata": {},
   "outputs": [
    {
     "data": {
      "text/html": [
       "        <script type=\"text/javascript\">\n",
       "        window.PlotlyConfig = {MathJaxConfig: 'local'};\n",
       "        if (window.MathJax) {MathJax.Hub.Config({SVG: {font: \"STIX-Web\"}});}\n",
       "        if (typeof require !== 'undefined') {\n",
       "        require.undef(\"plotly\");\n",
       "        requirejs.config({\n",
       "            paths: {\n",
       "                'plotly': ['https://cdn.plot.ly/plotly-latest.min']\n",
       "            }\n",
       "        });\n",
       "        require(['plotly'], function(Plotly) {\n",
       "            window._Plotly = Plotly;\n",
       "        });\n",
       "        }\n",
       "        </script>\n",
       "        "
      ]
     },
     "metadata": {},
     "output_type": "display_data"
    }
   ],
   "source": [
    "import pickle\n",
    "import pandas as pd\n",
    "import numpy as np\n",
    "import pytds\n",
    "import psycopg2\n",
    "import math\n",
    "import joblib\n",
    "import os\n",
    "from boltons import statsutils\n",
    "from pdpbox import pdp, get_dataset, info_plots\n",
    "import seaborn as sns\n",
    "from statsmodels.robust.scale import huber, Huber\n",
    "from datetime import datetime, timedelta\n",
    "from copy import deepcopy\n",
    "from numpy import mean, median\n",
    "import pandas_profiling as pp\n",
    "import gc\n",
    "import pyodbc\n",
    "from numpy import mean, median\n",
    "import warnings\n",
    "import itertools\n",
    "warnings.filterwarnings('ignore')\n",
    "from statsmodels.stats.weightstats import zconfint\n",
    "from statsmodels.stats.proportion import binom_test\n",
    "import matplotlib.pyplot as plt\n",
    "from plotly.offline import download_plotlyjs, init_notebook_mode, plot, iplot\n",
    "import plotly.graph_objs as go\n",
    "import plotly.figure_factory as ff\n",
    "import plotly.express as px\n",
    "init_notebook_mode(connected=True)\n",
    "%matplotlib inline"
   ]
  },
  {
   "cell_type": "code",
   "execution_count": 2,
   "metadata": {},
   "outputs": [],
   "source": [
    "data_folder = '../'"
   ]
  },
  {
   "cell_type": "code",
   "execution_count": 3,
   "metadata": {},
   "outputs": [],
   "source": [
    "train_transaction = pd.read_csv(data_folder+'train_transaction.csv', index_col='TransactionID')\n",
    "test_transaction = pd.read_csv(data_folder+'test_transaction.csv', index_col='TransactionID')\n",
    "\n",
    "train_identity = pd.read_csv(data_folder+'train_identity.csv', index_col='TransactionID')\n",
    "test_identity = pd.read_csv(data_folder+'test_identity.csv', index_col='TransactionID')"
   ]
  },
  {
   "cell_type": "code",
   "execution_count": 4,
   "metadata": {
    "scrolled": true
   },
   "outputs": [],
   "source": [
    "train = train_transaction.merge(train_identity, how='left', left_index=True, right_index=True)\n",
    "test = test_transaction.merge(test_identity, how='left', left_index=True, right_index=True)"
   ]
  },
  {
   "cell_type": "code",
   "execution_count": 5,
   "metadata": {},
   "outputs": [],
   "source": [
    "del train_transaction\n",
    "del test_transaction\n",
    "del train_identity\n",
    "del test_identity"
   ]
  },
  {
   "cell_type": "code",
   "execution_count": 6,
   "metadata": {},
   "outputs": [],
   "source": [
    "mean_amt = pd.concat([train[['TransactionAmt']],test[['TransactionAmt']]])['TransactionAmt'].mean()\n",
    "\n",
    "train['is_bigger_mean'] = (train['TransactionAmt']>mean_amt).astype(int)\n",
    "test['is_bigger_mean'] = (test['TransactionAmt']>mean_amt).astype(int)"
   ]
  },
  {
   "cell_type": "code",
   "execution_count": 7,
   "metadata": {},
   "outputs": [],
   "source": [
    "tmp = pd.crosstab(train['is_bigger_mean'], train['isFraud'], normalize='index')*100"
   ]
  },
  {
   "cell_type": "code",
   "execution_count": 8,
   "metadata": {},
   "outputs": [
    {
     "data": {
      "text/html": [
       "<div>\n",
       "<style scoped>\n",
       "    .dataframe tbody tr th:only-of-type {\n",
       "        vertical-align: middle;\n",
       "    }\n",
       "\n",
       "    .dataframe tbody tr th {\n",
       "        vertical-align: top;\n",
       "    }\n",
       "\n",
       "    .dataframe thead th {\n",
       "        text-align: right;\n",
       "    }\n",
       "</style>\n",
       "<table border=\"1\" class=\"dataframe\">\n",
       "  <thead>\n",
       "    <tr style=\"text-align: right;\">\n",
       "      <th>isFraud</th>\n",
       "      <th>0</th>\n",
       "      <th>1</th>\n",
       "    </tr>\n",
       "    <tr>\n",
       "      <th>is_bigger_mean</th>\n",
       "      <th></th>\n",
       "      <th></th>\n",
       "    </tr>\n",
       "  </thead>\n",
       "  <tbody>\n",
       "    <tr>\n",
       "      <th>0</th>\n",
       "      <td>96.802425</td>\n",
       "      <td>3.197575</td>\n",
       "    </tr>\n",
       "    <tr>\n",
       "      <th>1</th>\n",
       "      <td>95.550366</td>\n",
       "      <td>4.449634</td>\n",
       "    </tr>\n",
       "  </tbody>\n",
       "</table>\n",
       "</div>"
      ],
      "text/plain": [
       "isFraud                 0         1\n",
       "is_bigger_mean                     \n",
       "0               96.802425  3.197575\n",
       "1               95.550366  4.449634"
      ]
     },
     "execution_count": 8,
     "metadata": {},
     "output_type": "execute_result"
    }
   ],
   "source": [
    "tmp"
   ]
  },
  {
   "cell_type": "code",
   "execution_count": 9,
   "metadata": {},
   "outputs": [],
   "source": [
    "emails = {'gmail': 'google', 'att.net': 'att', 'twc.com': 'spectrum', 'scranton.edu': 'other', \n",
    "          'optonline.net': 'other', 'hotmail.co.uk': 'microsoft', 'comcast.net': 'other', 'yahoo.com.mx': 'yahoo', 'yahoo.fr': 'yahoo', \n",
    "          'yahoo.es': 'yahoo', 'charter.net': 'spectrum', 'live.com': 'microsoft', 'aim.com': 'aol', 'hotmail.de': 'microsoft', 'centurylink.net': 'centurylink', \n",
    "          'gmail.com': 'google', 'me.com': 'apple', 'earthlink.net': 'other', 'gmx.de': 'other', 'web.de': 'other', 'cfl.rr.com': 'other', 'hotmail.com': 'microsoft', \n",
    "          'protonmail.com': 'other', 'hotmail.fr': 'microsoft', 'windstream.net': 'other', 'outlook.es': 'microsoft', 'yahoo.co.jp': 'yahoo', 'yahoo.de': 'yahoo', \n",
    "          'servicios-ta.com': 'other', 'netzero.net': 'other', 'suddenlink.net': 'other', 'roadrunner.com': 'other', 'sc.rr.com': 'other', 'live.fr': 'microsoft', \n",
    "          'verizon.net': 'yahoo', 'msn.com': 'microsoft', 'q.com': 'centurylink', 'prodigy.net.mx': 'att', 'frontier.com': 'yahoo', 'anonymous.com': 'other', \n",
    "          'rocketmail.com': 'yahoo', 'sbcglobal.net': 'att', 'frontiernet.net': 'yahoo', 'ymail.com': 'yahoo', 'outlook.com': 'microsoft', 'mail.com': 'other', \n",
    "          'bellsouth.net': 'other', 'embarqmail.com': 'centurylink', 'cableone.net': 'other', 'hotmail.es': 'microsoft', 'mac.com': 'apple', 'yahoo.co.uk': 'yahoo', \n",
    "          'netzero.com': 'other', 'yahoo.com': 'yahoo', 'live.com.mx': 'microsoft', 'ptd.net': 'other', 'cox.net': 'other', 'aol.com': 'aol', 'juno.com': 'other', 'icloud.com': 'apple'}\n",
    "us_emails = ['gmail', 'net', 'edu']"
   ]
  },
  {
   "cell_type": "code",
   "execution_count": 10,
   "metadata": {},
   "outputs": [],
   "source": [
    "bin_to_num_dict = {'google':1, 'microsoft':2, 'other':3, 'yahoo':4, 'None':0}\n",
    "suf_to_num_dict = {'com':1, 'nan':2, 'us':3}"
   ]
  },
  {
   "cell_type": "code",
   "execution_count": 11,
   "metadata": {},
   "outputs": [],
   "source": [
    "def is_same_email_bin(P_email, R_email):\n",
    "    P_email = str(P_email)\n",
    "    R_email = str(R_email)\n",
    "    if (R_email=='nan' and P_email=='nan'):\n",
    "        return 1\n",
    "    elif (R_email=='nan'):\n",
    "        return 2\n",
    "    elif (P_email=='nan'):\n",
    "        return 3\n",
    "    elif (P_email==R_email):\n",
    "        return 4\n",
    "    else:\n",
    "        return 0"
   ]
  },
  {
   "cell_type": "code",
   "execution_count": 12,
   "metadata": {},
   "outputs": [],
   "source": [
    "for c in ['P_emaildomain', 'R_emaildomain']:\n",
    "    train[c + '_bin'] = train[c].map(emails).fillna('nan')\n",
    "    test[c + '_bin'] = test[c].map(emails).fillna('nan')\n",
    "    \n",
    "    train[c + '_suffix'] = train[c].map(lambda x: str(x).split('.')[-1])\n",
    "    test[c + '_suffix'] = test[c].map(lambda x: str(x).split('.')[-1])\n",
    "    \n",
    "    train[c + '_suffix'] = train[c + '_suffix'].map(lambda x: x if str(x) not in us_emails else 'us')\n",
    "    test[c + '_suffix'] = test[c + '_suffix'].map(lambda x: x if str(x) not in us_emails else 'us')"
   ]
  },
  {
   "cell_type": "code",
   "execution_count": 13,
   "metadata": {},
   "outputs": [],
   "source": [
    "train['is_same_email_bin'] = train[['P_emaildomain_bin', 'R_emaildomain_bin']].apply(lambda r: is_same_email_bin(r['P_emaildomain_bin'],r['R_emaildomain_bin']), axis=1)\n",
    "test['is_same_email_bin'] = test[['P_emaildomain_bin', 'R_emaildomain_bin']].apply(lambda r: is_same_email_bin(r['P_emaildomain_bin'],r['R_emaildomain_bin']), axis=1)\n",
    "\n",
    "train['is_same_email_suf'] = train[['P_emaildomain_suffix', 'R_emaildomain_suffix']].apply(lambda r: is_same_email_bin(r['P_emaildomain_suffix'],r['R_emaildomain_suffix']), axis=1)\n",
    "test['is_same_email_suf'] = test[['P_emaildomain_suffix', 'R_emaildomain_suffix']].apply(lambda r: is_same_email_bin(r['P_emaildomain_suffix'],r['R_emaildomain_suffix']), axis=1)"
   ]
  },
  {
   "cell_type": "code",
   "execution_count": 14,
   "metadata": {},
   "outputs": [],
   "source": [
    "for c in ['P_emaildomain', 'R_emaildomain']:\n",
    "    train[c + '_bin'] = train[c + '_bin'].map(bin_to_num_dict).fillna(5)\n",
    "    test[c + '_bin'] = test[c + '_bin'].map(bin_to_num_dict).fillna(5)\n",
    "    \n",
    "    train[c + '_suffix'] = train[c + '_suffix'].map(suf_to_num_dict).fillna(4)\n",
    "    test[c + '_suffix'] = test[c + '_suffix'].map(suf_to_num_dict).fillna(4)"
   ]
  },
  {
   "cell_type": "code",
   "execution_count": 15,
   "metadata": {},
   "outputs": [
    {
     "data": {
      "text/html": [
       "<div>\n",
       "<style scoped>\n",
       "    .dataframe tbody tr th:only-of-type {\n",
       "        vertical-align: middle;\n",
       "    }\n",
       "\n",
       "    .dataframe tbody tr th {\n",
       "        vertical-align: top;\n",
       "    }\n",
       "\n",
       "    .dataframe thead th {\n",
       "        text-align: right;\n",
       "    }\n",
       "</style>\n",
       "<table border=\"1\" class=\"dataframe\">\n",
       "  <thead>\n",
       "    <tr style=\"text-align: right;\">\n",
       "      <th></th>\n",
       "      <th>P_emaildomain_bin</th>\n",
       "      <th>isFraud</th>\n",
       "    </tr>\n",
       "  </thead>\n",
       "  <tbody>\n",
       "    <tr>\n",
       "      <th>3</th>\n",
       "      <td>4.0</td>\n",
       "      <td>0.022052</td>\n",
       "    </tr>\n",
       "    <tr>\n",
       "      <th>2</th>\n",
       "      <td>3.0</td>\n",
       "      <td>0.025914</td>\n",
       "    </tr>\n",
       "    <tr>\n",
       "      <th>4</th>\n",
       "      <td>5.0</td>\n",
       "      <td>0.026834</td>\n",
       "    </tr>\n",
       "    <tr>\n",
       "      <th>0</th>\n",
       "      <td>1.0</td>\n",
       "      <td>0.043496</td>\n",
       "    </tr>\n",
       "    <tr>\n",
       "      <th>1</th>\n",
       "      <td>2.0</td>\n",
       "      <td>0.053298</td>\n",
       "    </tr>\n",
       "  </tbody>\n",
       "</table>\n",
       "</div>"
      ],
      "text/plain": [
       "   P_emaildomain_bin   isFraud\n",
       "3                4.0  0.022052\n",
       "2                3.0  0.025914\n",
       "4                5.0  0.026834\n",
       "0                1.0  0.043496\n",
       "1                2.0  0.053298"
      ]
     },
     "execution_count": 15,
     "metadata": {},
     "output_type": "execute_result"
    }
   ],
   "source": [
    "train.groupby('P_emaildomain_bin', as_index=False)['isFraud'].mean().sort_values('isFraud')"
   ]
  },
  {
   "cell_type": "code",
   "execution_count": 16,
   "metadata": {},
   "outputs": [],
   "source": [
    "def plot_categorical_feature(df, feature, target):\n",
    "    temp_bad = df.loc[df[target]==1]\n",
    "    temp_bad = temp_bad.groupby(feature, as_index=False)[target].count()\n",
    "    temp_good = df.loc[df[target]==0]\n",
    "    temp_good = temp_good.groupby(feature, as_index=False)[target].count()\n",
    "    temp = temp_good.merge(temp_bad, on=feature, suffixes=('_g', '_b'))\n",
    "    temp['perc'] = round(100*temp[target+'_b']/(temp[target+'_b']+temp[target+'_g']),2)\n",
    "    trace_1 = go.Bar(x = temp_good[feature], y=temp_good[target], name='Хорошие')\n",
    "    trace_2 = go.Bar(x = temp_bad[feature], y=temp_bad[target], name='Плохие', text=temp.perc, textposition = 'auto')\n",
    "    layout = go.Layout(barmode='stack')\n",
    "    fig = go.Figure(data=[trace_1, trace_2], layout=layout)\n",
    "    iplot(fig)"
   ]
  },
  {
   "cell_type": "code",
   "execution_count": 17,
   "metadata": {},
   "outputs": [
    {
     "data": {
      "application/vnd.plotly.v1+json": {
       "config": {
        "linkText": "Export to plot.ly",
        "plotlyServerURL": "https://plot.ly",
        "showLink": false
       },
       "data": [
        {
         "name": "Хорошие",
         "type": "bar",
         "x": [
          0,
          1,
          2,
          3,
          4
         ],
         "y": [
          22019,
          81255,
          362558,
          10411,
          93634
         ]
        },
        {
         "name": "Плохие",
         "text": [
          2.91,
          2.56,
          1.97,
          5.9,
          9.57
         ],
         "textposition": "auto",
         "type": "bar",
         "x": [
          0,
          1,
          2,
          3,
          4
         ],
         "y": [
          661,
          2137,
          7299,
          653,
          9913
         ]
        }
       ],
       "layout": {
        "barmode": "stack",
        "template": {
         "data": {
          "bar": [
           {
            "error_x": {
             "color": "#2a3f5f"
            },
            "error_y": {
             "color": "#2a3f5f"
            },
            "marker": {
             "line": {
              "color": "#E5ECF6",
              "width": 0.5
             }
            },
            "type": "bar"
           }
          ],
          "barpolar": [
           {
            "marker": {
             "line": {
              "color": "#E5ECF6",
              "width": 0.5
             }
            },
            "type": "barpolar"
           }
          ],
          "carpet": [
           {
            "aaxis": {
             "endlinecolor": "#2a3f5f",
             "gridcolor": "white",
             "linecolor": "white",
             "minorgridcolor": "white",
             "startlinecolor": "#2a3f5f"
            },
            "baxis": {
             "endlinecolor": "#2a3f5f",
             "gridcolor": "white",
             "linecolor": "white",
             "minorgridcolor": "white",
             "startlinecolor": "#2a3f5f"
            },
            "type": "carpet"
           }
          ],
          "choropleth": [
           {
            "colorbar": {
             "outlinewidth": 0,
             "ticks": ""
            },
            "type": "choropleth"
           }
          ],
          "contour": [
           {
            "colorbar": {
             "outlinewidth": 0,
             "ticks": ""
            },
            "colorscale": [
             [
              0,
              "#0d0887"
             ],
             [
              0.1111111111111111,
              "#46039f"
             ],
             [
              0.2222222222222222,
              "#7201a8"
             ],
             [
              0.3333333333333333,
              "#9c179e"
             ],
             [
              0.4444444444444444,
              "#bd3786"
             ],
             [
              0.5555555555555556,
              "#d8576b"
             ],
             [
              0.6666666666666666,
              "#ed7953"
             ],
             [
              0.7777777777777778,
              "#fb9f3a"
             ],
             [
              0.8888888888888888,
              "#fdca26"
             ],
             [
              1,
              "#f0f921"
             ]
            ],
            "type": "contour"
           }
          ],
          "contourcarpet": [
           {
            "colorbar": {
             "outlinewidth": 0,
             "ticks": ""
            },
            "type": "contourcarpet"
           }
          ],
          "heatmap": [
           {
            "colorbar": {
             "outlinewidth": 0,
             "ticks": ""
            },
            "colorscale": [
             [
              0,
              "#0d0887"
             ],
             [
              0.1111111111111111,
              "#46039f"
             ],
             [
              0.2222222222222222,
              "#7201a8"
             ],
             [
              0.3333333333333333,
              "#9c179e"
             ],
             [
              0.4444444444444444,
              "#bd3786"
             ],
             [
              0.5555555555555556,
              "#d8576b"
             ],
             [
              0.6666666666666666,
              "#ed7953"
             ],
             [
              0.7777777777777778,
              "#fb9f3a"
             ],
             [
              0.8888888888888888,
              "#fdca26"
             ],
             [
              1,
              "#f0f921"
             ]
            ],
            "type": "heatmap"
           }
          ],
          "heatmapgl": [
           {
            "colorbar": {
             "outlinewidth": 0,
             "ticks": ""
            },
            "colorscale": [
             [
              0,
              "#0d0887"
             ],
             [
              0.1111111111111111,
              "#46039f"
             ],
             [
              0.2222222222222222,
              "#7201a8"
             ],
             [
              0.3333333333333333,
              "#9c179e"
             ],
             [
              0.4444444444444444,
              "#bd3786"
             ],
             [
              0.5555555555555556,
              "#d8576b"
             ],
             [
              0.6666666666666666,
              "#ed7953"
             ],
             [
              0.7777777777777778,
              "#fb9f3a"
             ],
             [
              0.8888888888888888,
              "#fdca26"
             ],
             [
              1,
              "#f0f921"
             ]
            ],
            "type": "heatmapgl"
           }
          ],
          "histogram": [
           {
            "marker": {
             "colorbar": {
              "outlinewidth": 0,
              "ticks": ""
             }
            },
            "type": "histogram"
           }
          ],
          "histogram2d": [
           {
            "colorbar": {
             "outlinewidth": 0,
             "ticks": ""
            },
            "colorscale": [
             [
              0,
              "#0d0887"
             ],
             [
              0.1111111111111111,
              "#46039f"
             ],
             [
              0.2222222222222222,
              "#7201a8"
             ],
             [
              0.3333333333333333,
              "#9c179e"
             ],
             [
              0.4444444444444444,
              "#bd3786"
             ],
             [
              0.5555555555555556,
              "#d8576b"
             ],
             [
              0.6666666666666666,
              "#ed7953"
             ],
             [
              0.7777777777777778,
              "#fb9f3a"
             ],
             [
              0.8888888888888888,
              "#fdca26"
             ],
             [
              1,
              "#f0f921"
             ]
            ],
            "type": "histogram2d"
           }
          ],
          "histogram2dcontour": [
           {
            "colorbar": {
             "outlinewidth": 0,
             "ticks": ""
            },
            "colorscale": [
             [
              0,
              "#0d0887"
             ],
             [
              0.1111111111111111,
              "#46039f"
             ],
             [
              0.2222222222222222,
              "#7201a8"
             ],
             [
              0.3333333333333333,
              "#9c179e"
             ],
             [
              0.4444444444444444,
              "#bd3786"
             ],
             [
              0.5555555555555556,
              "#d8576b"
             ],
             [
              0.6666666666666666,
              "#ed7953"
             ],
             [
              0.7777777777777778,
              "#fb9f3a"
             ],
             [
              0.8888888888888888,
              "#fdca26"
             ],
             [
              1,
              "#f0f921"
             ]
            ],
            "type": "histogram2dcontour"
           }
          ],
          "mesh3d": [
           {
            "colorbar": {
             "outlinewidth": 0,
             "ticks": ""
            },
            "type": "mesh3d"
           }
          ],
          "parcoords": [
           {
            "line": {
             "colorbar": {
              "outlinewidth": 0,
              "ticks": ""
             }
            },
            "type": "parcoords"
           }
          ],
          "scatter": [
           {
            "marker": {
             "colorbar": {
              "outlinewidth": 0,
              "ticks": ""
             }
            },
            "type": "scatter"
           }
          ],
          "scatter3d": [
           {
            "line": {
             "colorbar": {
              "outlinewidth": 0,
              "ticks": ""
             }
            },
            "marker": {
             "colorbar": {
              "outlinewidth": 0,
              "ticks": ""
             }
            },
            "type": "scatter3d"
           }
          ],
          "scattercarpet": [
           {
            "marker": {
             "colorbar": {
              "outlinewidth": 0,
              "ticks": ""
             }
            },
            "type": "scattercarpet"
           }
          ],
          "scattergeo": [
           {
            "marker": {
             "colorbar": {
              "outlinewidth": 0,
              "ticks": ""
             }
            },
            "type": "scattergeo"
           }
          ],
          "scattergl": [
           {
            "marker": {
             "colorbar": {
              "outlinewidth": 0,
              "ticks": ""
             }
            },
            "type": "scattergl"
           }
          ],
          "scattermapbox": [
           {
            "marker": {
             "colorbar": {
              "outlinewidth": 0,
              "ticks": ""
             }
            },
            "type": "scattermapbox"
           }
          ],
          "scatterpolar": [
           {
            "marker": {
             "colorbar": {
              "outlinewidth": 0,
              "ticks": ""
             }
            },
            "type": "scatterpolar"
           }
          ],
          "scatterpolargl": [
           {
            "marker": {
             "colorbar": {
              "outlinewidth": 0,
              "ticks": ""
             }
            },
            "type": "scatterpolargl"
           }
          ],
          "scatterternary": [
           {
            "marker": {
             "colorbar": {
              "outlinewidth": 0,
              "ticks": ""
             }
            },
            "type": "scatterternary"
           }
          ],
          "surface": [
           {
            "colorbar": {
             "outlinewidth": 0,
             "ticks": ""
            },
            "colorscale": [
             [
              0,
              "#0d0887"
             ],
             [
              0.1111111111111111,
              "#46039f"
             ],
             [
              0.2222222222222222,
              "#7201a8"
             ],
             [
              0.3333333333333333,
              "#9c179e"
             ],
             [
              0.4444444444444444,
              "#bd3786"
             ],
             [
              0.5555555555555556,
              "#d8576b"
             ],
             [
              0.6666666666666666,
              "#ed7953"
             ],
             [
              0.7777777777777778,
              "#fb9f3a"
             ],
             [
              0.8888888888888888,
              "#fdca26"
             ],
             [
              1,
              "#f0f921"
             ]
            ],
            "type": "surface"
           }
          ],
          "table": [
           {
            "cells": {
             "fill": {
              "color": "#EBF0F8"
             },
             "line": {
              "color": "white"
             }
            },
            "header": {
             "fill": {
              "color": "#C8D4E3"
             },
             "line": {
              "color": "white"
             }
            },
            "type": "table"
           }
          ]
         },
         "layout": {
          "annotationdefaults": {
           "arrowcolor": "#2a3f5f",
           "arrowhead": 0,
           "arrowwidth": 1
          },
          "colorscale": {
           "diverging": [
            [
             0,
             "#8e0152"
            ],
            [
             0.1,
             "#c51b7d"
            ],
            [
             0.2,
             "#de77ae"
            ],
            [
             0.3,
             "#f1b6da"
            ],
            [
             0.4,
             "#fde0ef"
            ],
            [
             0.5,
             "#f7f7f7"
            ],
            [
             0.6,
             "#e6f5d0"
            ],
            [
             0.7,
             "#b8e186"
            ],
            [
             0.8,
             "#7fbc41"
            ],
            [
             0.9,
             "#4d9221"
            ],
            [
             1,
             "#276419"
            ]
           ],
           "sequential": [
            [
             0,
             "#0d0887"
            ],
            [
             0.1111111111111111,
             "#46039f"
            ],
            [
             0.2222222222222222,
             "#7201a8"
            ],
            [
             0.3333333333333333,
             "#9c179e"
            ],
            [
             0.4444444444444444,
             "#bd3786"
            ],
            [
             0.5555555555555556,
             "#d8576b"
            ],
            [
             0.6666666666666666,
             "#ed7953"
            ],
            [
             0.7777777777777778,
             "#fb9f3a"
            ],
            [
             0.8888888888888888,
             "#fdca26"
            ],
            [
             1,
             "#f0f921"
            ]
           ],
           "sequentialminus": [
            [
             0,
             "#0d0887"
            ],
            [
             0.1111111111111111,
             "#46039f"
            ],
            [
             0.2222222222222222,
             "#7201a8"
            ],
            [
             0.3333333333333333,
             "#9c179e"
            ],
            [
             0.4444444444444444,
             "#bd3786"
            ],
            [
             0.5555555555555556,
             "#d8576b"
            ],
            [
             0.6666666666666666,
             "#ed7953"
            ],
            [
             0.7777777777777778,
             "#fb9f3a"
            ],
            [
             0.8888888888888888,
             "#fdca26"
            ],
            [
             1,
             "#f0f921"
            ]
           ]
          },
          "colorway": [
           "#636efa",
           "#EF553B",
           "#00cc96",
           "#ab63fa",
           "#FFA15A",
           "#19d3f3",
           "#FF6692",
           "#B6E880",
           "#FF97FF",
           "#FECB52"
          ],
          "font": {
           "color": "#2a3f5f"
          },
          "geo": {
           "bgcolor": "white",
           "lakecolor": "white",
           "landcolor": "#E5ECF6",
           "showlakes": true,
           "showland": true,
           "subunitcolor": "white"
          },
          "hoverlabel": {
           "align": "left"
          },
          "hovermode": "closest",
          "mapbox": {
           "style": "light"
          },
          "paper_bgcolor": "white",
          "plot_bgcolor": "#E5ECF6",
          "polar": {
           "angularaxis": {
            "gridcolor": "white",
            "linecolor": "white",
            "ticks": ""
           },
           "bgcolor": "#E5ECF6",
           "radialaxis": {
            "gridcolor": "white",
            "linecolor": "white",
            "ticks": ""
           }
          },
          "scene": {
           "xaxis": {
            "backgroundcolor": "#E5ECF6",
            "gridcolor": "white",
            "gridwidth": 2,
            "linecolor": "white",
            "showbackground": true,
            "ticks": "",
            "zerolinecolor": "white"
           },
           "yaxis": {
            "backgroundcolor": "#E5ECF6",
            "gridcolor": "white",
            "gridwidth": 2,
            "linecolor": "white",
            "showbackground": true,
            "ticks": "",
            "zerolinecolor": "white"
           },
           "zaxis": {
            "backgroundcolor": "#E5ECF6",
            "gridcolor": "white",
            "gridwidth": 2,
            "linecolor": "white",
            "showbackground": true,
            "ticks": "",
            "zerolinecolor": "white"
           }
          },
          "shapedefaults": {
           "line": {
            "color": "#2a3f5f"
           }
          },
          "ternary": {
           "aaxis": {
            "gridcolor": "white",
            "linecolor": "white",
            "ticks": ""
           },
           "baxis": {
            "gridcolor": "white",
            "linecolor": "white",
            "ticks": ""
           },
           "bgcolor": "#E5ECF6",
           "caxis": {
            "gridcolor": "white",
            "linecolor": "white",
            "ticks": ""
           }
          },
          "title": {
           "x": 0.05
          },
          "xaxis": {
           "automargin": true,
           "gridcolor": "white",
           "linecolor": "white",
           "ticks": "",
           "zerolinecolor": "white",
           "zerolinewidth": 2
          },
          "yaxis": {
           "automargin": true,
           "gridcolor": "white",
           "linecolor": "white",
           "ticks": "",
           "zerolinecolor": "white",
           "zerolinewidth": 2
          }
         }
        }
       }
      },
      "text/html": [
       "<div>\n",
       "        \n",
       "        \n",
       "            <div id=\"57ce621f-e274-402e-b140-77761142eb44\" class=\"plotly-graph-div\" style=\"height:525px; width:100%;\"></div>\n",
       "            <script type=\"text/javascript\">\n",
       "                require([\"plotly\"], function(Plotly) {\n",
       "                    window.PLOTLYENV=window.PLOTLYENV || {};\n",
       "                    \n",
       "                if (document.getElementById(\"57ce621f-e274-402e-b140-77761142eb44\")) {\n",
       "                    Plotly.newPlot(\n",
       "                        '57ce621f-e274-402e-b140-77761142eb44',\n",
       "                        [{\"name\": \"\\u0425\\u043e\\u0440\\u043e\\u0448\\u0438\\u0435\", \"type\": \"bar\", \"x\": [0, 1, 2, 3, 4], \"y\": [22019, 81255, 362558, 10411, 93634]}, {\"name\": \"\\u041f\\u043b\\u043e\\u0445\\u0438\\u0435\", \"text\": [2.91, 2.56, 1.97, 5.9, 9.57], \"textposition\": \"auto\", \"type\": \"bar\", \"x\": [0, 1, 2, 3, 4], \"y\": [661, 2137, 7299, 653, 9913]}],\n",
       "                        {\"barmode\": \"stack\", \"template\": {\"data\": {\"bar\": [{\"error_x\": {\"color\": \"#2a3f5f\"}, \"error_y\": {\"color\": \"#2a3f5f\"}, \"marker\": {\"line\": {\"color\": \"#E5ECF6\", \"width\": 0.5}}, \"type\": \"bar\"}], \"barpolar\": [{\"marker\": {\"line\": {\"color\": \"#E5ECF6\", \"width\": 0.5}}, \"type\": \"barpolar\"}], \"carpet\": [{\"aaxis\": {\"endlinecolor\": \"#2a3f5f\", \"gridcolor\": \"white\", \"linecolor\": \"white\", \"minorgridcolor\": \"white\", \"startlinecolor\": \"#2a3f5f\"}, \"baxis\": {\"endlinecolor\": \"#2a3f5f\", \"gridcolor\": \"white\", \"linecolor\": \"white\", \"minorgridcolor\": \"white\", \"startlinecolor\": \"#2a3f5f\"}, \"type\": \"carpet\"}], \"choropleth\": [{\"colorbar\": {\"outlinewidth\": 0, \"ticks\": \"\"}, \"type\": \"choropleth\"}], \"contour\": [{\"colorbar\": {\"outlinewidth\": 0, \"ticks\": \"\"}, \"colorscale\": [[0.0, \"#0d0887\"], [0.1111111111111111, \"#46039f\"], [0.2222222222222222, \"#7201a8\"], [0.3333333333333333, \"#9c179e\"], [0.4444444444444444, \"#bd3786\"], [0.5555555555555556, \"#d8576b\"], [0.6666666666666666, \"#ed7953\"], [0.7777777777777778, \"#fb9f3a\"], [0.8888888888888888, \"#fdca26\"], [1.0, \"#f0f921\"]], \"type\": \"contour\"}], \"contourcarpet\": [{\"colorbar\": {\"outlinewidth\": 0, \"ticks\": \"\"}, \"type\": \"contourcarpet\"}], \"heatmap\": [{\"colorbar\": {\"outlinewidth\": 0, \"ticks\": \"\"}, \"colorscale\": [[0.0, \"#0d0887\"], [0.1111111111111111, \"#46039f\"], [0.2222222222222222, \"#7201a8\"], [0.3333333333333333, \"#9c179e\"], [0.4444444444444444, \"#bd3786\"], [0.5555555555555556, \"#d8576b\"], [0.6666666666666666, \"#ed7953\"], [0.7777777777777778, \"#fb9f3a\"], [0.8888888888888888, \"#fdca26\"], [1.0, \"#f0f921\"]], \"type\": \"heatmap\"}], \"heatmapgl\": [{\"colorbar\": {\"outlinewidth\": 0, \"ticks\": \"\"}, \"colorscale\": [[0.0, \"#0d0887\"], [0.1111111111111111, \"#46039f\"], [0.2222222222222222, \"#7201a8\"], [0.3333333333333333, \"#9c179e\"], [0.4444444444444444, \"#bd3786\"], [0.5555555555555556, \"#d8576b\"], [0.6666666666666666, \"#ed7953\"], [0.7777777777777778, \"#fb9f3a\"], [0.8888888888888888, \"#fdca26\"], [1.0, \"#f0f921\"]], \"type\": \"heatmapgl\"}], \"histogram\": [{\"marker\": {\"colorbar\": {\"outlinewidth\": 0, \"ticks\": \"\"}}, \"type\": \"histogram\"}], \"histogram2d\": [{\"colorbar\": {\"outlinewidth\": 0, \"ticks\": \"\"}, \"colorscale\": [[0.0, \"#0d0887\"], [0.1111111111111111, \"#46039f\"], [0.2222222222222222, \"#7201a8\"], [0.3333333333333333, \"#9c179e\"], [0.4444444444444444, \"#bd3786\"], [0.5555555555555556, \"#d8576b\"], [0.6666666666666666, \"#ed7953\"], [0.7777777777777778, \"#fb9f3a\"], [0.8888888888888888, \"#fdca26\"], [1.0, \"#f0f921\"]], \"type\": \"histogram2d\"}], \"histogram2dcontour\": [{\"colorbar\": {\"outlinewidth\": 0, \"ticks\": \"\"}, \"colorscale\": [[0.0, \"#0d0887\"], [0.1111111111111111, \"#46039f\"], [0.2222222222222222, \"#7201a8\"], [0.3333333333333333, \"#9c179e\"], [0.4444444444444444, \"#bd3786\"], [0.5555555555555556, \"#d8576b\"], [0.6666666666666666, \"#ed7953\"], [0.7777777777777778, \"#fb9f3a\"], [0.8888888888888888, \"#fdca26\"], [1.0, \"#f0f921\"]], \"type\": \"histogram2dcontour\"}], \"mesh3d\": [{\"colorbar\": {\"outlinewidth\": 0, \"ticks\": \"\"}, \"type\": \"mesh3d\"}], \"parcoords\": [{\"line\": {\"colorbar\": {\"outlinewidth\": 0, \"ticks\": \"\"}}, \"type\": \"parcoords\"}], \"scatter\": [{\"marker\": {\"colorbar\": {\"outlinewidth\": 0, \"ticks\": \"\"}}, \"type\": \"scatter\"}], \"scatter3d\": [{\"line\": {\"colorbar\": {\"outlinewidth\": 0, \"ticks\": \"\"}}, \"marker\": {\"colorbar\": {\"outlinewidth\": 0, \"ticks\": \"\"}}, \"type\": \"scatter3d\"}], \"scattercarpet\": [{\"marker\": {\"colorbar\": {\"outlinewidth\": 0, \"ticks\": \"\"}}, \"type\": \"scattercarpet\"}], \"scattergeo\": [{\"marker\": {\"colorbar\": {\"outlinewidth\": 0, \"ticks\": \"\"}}, \"type\": \"scattergeo\"}], \"scattergl\": [{\"marker\": {\"colorbar\": {\"outlinewidth\": 0, \"ticks\": \"\"}}, \"type\": \"scattergl\"}], \"scattermapbox\": [{\"marker\": {\"colorbar\": {\"outlinewidth\": 0, \"ticks\": \"\"}}, \"type\": \"scattermapbox\"}], \"scatterpolar\": [{\"marker\": {\"colorbar\": {\"outlinewidth\": 0, \"ticks\": \"\"}}, \"type\": \"scatterpolar\"}], \"scatterpolargl\": [{\"marker\": {\"colorbar\": {\"outlinewidth\": 0, \"ticks\": \"\"}}, \"type\": \"scatterpolargl\"}], \"scatterternary\": [{\"marker\": {\"colorbar\": {\"outlinewidth\": 0, \"ticks\": \"\"}}, \"type\": \"scatterternary\"}], \"surface\": [{\"colorbar\": {\"outlinewidth\": 0, \"ticks\": \"\"}, \"colorscale\": [[0.0, \"#0d0887\"], [0.1111111111111111, \"#46039f\"], [0.2222222222222222, \"#7201a8\"], [0.3333333333333333, \"#9c179e\"], [0.4444444444444444, \"#bd3786\"], [0.5555555555555556, \"#d8576b\"], [0.6666666666666666, \"#ed7953\"], [0.7777777777777778, \"#fb9f3a\"], [0.8888888888888888, \"#fdca26\"], [1.0, \"#f0f921\"]], \"type\": \"surface\"}], \"table\": [{\"cells\": {\"fill\": {\"color\": \"#EBF0F8\"}, \"line\": {\"color\": \"white\"}}, \"header\": {\"fill\": {\"color\": \"#C8D4E3\"}, \"line\": {\"color\": \"white\"}}, \"type\": \"table\"}]}, \"layout\": {\"annotationdefaults\": {\"arrowcolor\": \"#2a3f5f\", \"arrowhead\": 0, \"arrowwidth\": 1}, \"colorscale\": {\"diverging\": [[0, \"#8e0152\"], [0.1, \"#c51b7d\"], [0.2, \"#de77ae\"], [0.3, \"#f1b6da\"], [0.4, \"#fde0ef\"], [0.5, \"#f7f7f7\"], [0.6, \"#e6f5d0\"], [0.7, \"#b8e186\"], [0.8, \"#7fbc41\"], [0.9, \"#4d9221\"], [1, \"#276419\"]], \"sequential\": [[0.0, \"#0d0887\"], [0.1111111111111111, \"#46039f\"], [0.2222222222222222, \"#7201a8\"], [0.3333333333333333, \"#9c179e\"], [0.4444444444444444, \"#bd3786\"], [0.5555555555555556, \"#d8576b\"], [0.6666666666666666, \"#ed7953\"], [0.7777777777777778, \"#fb9f3a\"], [0.8888888888888888, \"#fdca26\"], [1.0, \"#f0f921\"]], \"sequentialminus\": [[0.0, \"#0d0887\"], [0.1111111111111111, \"#46039f\"], [0.2222222222222222, \"#7201a8\"], [0.3333333333333333, \"#9c179e\"], [0.4444444444444444, \"#bd3786\"], [0.5555555555555556, \"#d8576b\"], [0.6666666666666666, \"#ed7953\"], [0.7777777777777778, \"#fb9f3a\"], [0.8888888888888888, \"#fdca26\"], [1.0, \"#f0f921\"]]}, \"colorway\": [\"#636efa\", \"#EF553B\", \"#00cc96\", \"#ab63fa\", \"#FFA15A\", \"#19d3f3\", \"#FF6692\", \"#B6E880\", \"#FF97FF\", \"#FECB52\"], \"font\": {\"color\": \"#2a3f5f\"}, \"geo\": {\"bgcolor\": \"white\", \"lakecolor\": \"white\", \"landcolor\": \"#E5ECF6\", \"showlakes\": true, \"showland\": true, \"subunitcolor\": \"white\"}, \"hoverlabel\": {\"align\": \"left\"}, \"hovermode\": \"closest\", \"mapbox\": {\"style\": \"light\"}, \"paper_bgcolor\": \"white\", \"plot_bgcolor\": \"#E5ECF6\", \"polar\": {\"angularaxis\": {\"gridcolor\": \"white\", \"linecolor\": \"white\", \"ticks\": \"\"}, \"bgcolor\": \"#E5ECF6\", \"radialaxis\": {\"gridcolor\": \"white\", \"linecolor\": \"white\", \"ticks\": \"\"}}, \"scene\": {\"xaxis\": {\"backgroundcolor\": \"#E5ECF6\", \"gridcolor\": \"white\", \"gridwidth\": 2, \"linecolor\": \"white\", \"showbackground\": true, \"ticks\": \"\", \"zerolinecolor\": \"white\"}, \"yaxis\": {\"backgroundcolor\": \"#E5ECF6\", \"gridcolor\": \"white\", \"gridwidth\": 2, \"linecolor\": \"white\", \"showbackground\": true, \"ticks\": \"\", \"zerolinecolor\": \"white\"}, \"zaxis\": {\"backgroundcolor\": \"#E5ECF6\", \"gridcolor\": \"white\", \"gridwidth\": 2, \"linecolor\": \"white\", \"showbackground\": true, \"ticks\": \"\", \"zerolinecolor\": \"white\"}}, \"shapedefaults\": {\"line\": {\"color\": \"#2a3f5f\"}}, \"ternary\": {\"aaxis\": {\"gridcolor\": \"white\", \"linecolor\": \"white\", \"ticks\": \"\"}, \"baxis\": {\"gridcolor\": \"white\", \"linecolor\": \"white\", \"ticks\": \"\"}, \"bgcolor\": \"#E5ECF6\", \"caxis\": {\"gridcolor\": \"white\", \"linecolor\": \"white\", \"ticks\": \"\"}}, \"title\": {\"x\": 0.05}, \"xaxis\": {\"automargin\": true, \"gridcolor\": \"white\", \"linecolor\": \"white\", \"ticks\": \"\", \"zerolinecolor\": \"white\", \"zerolinewidth\": 2}, \"yaxis\": {\"automargin\": true, \"gridcolor\": \"white\", \"linecolor\": \"white\", \"ticks\": \"\", \"zerolinecolor\": \"white\", \"zerolinewidth\": 2}}}},\n",
       "                        {\"responsive\": true}\n",
       "                    ).then(function(){\n",
       "                            \n",
       "var gd = document.getElementById('57ce621f-e274-402e-b140-77761142eb44');\n",
       "var x = new MutationObserver(function (mutations, observer) {{\n",
       "        var display = window.getComputedStyle(gd).display;\n",
       "        if (!display || display === 'none') {{\n",
       "            console.log([gd, 'removed!']);\n",
       "            Plotly.purge(gd);\n",
       "            observer.disconnect();\n",
       "        }}\n",
       "}});\n",
       "\n",
       "// Listen for the removal of the full notebook cells\n",
       "var notebookContainer = gd.closest('#notebook-container');\n",
       "if (notebookContainer) {{\n",
       "    x.observe(notebookContainer, {childList: true});\n",
       "}}\n",
       "\n",
       "// Listen for the clearing of the current output cell\n",
       "var outputEl = gd.closest('.output');\n",
       "if (outputEl) {{\n",
       "    x.observe(outputEl, {childList: true});\n",
       "}}\n",
       "\n",
       "                        })\n",
       "                };\n",
       "                });\n",
       "            </script>\n",
       "        </div>"
      ]
     },
     "metadata": {},
     "output_type": "display_data"
    }
   ],
   "source": [
    "plot_categorical_feature(train, 'is_same_email_bin', 'isFraud')"
   ]
  },
  {
   "cell_type": "code",
   "execution_count": 18,
   "metadata": {},
   "outputs": [],
   "source": [
    "def time_num_feature_plot():\n",
    "    pass\n",
    "\n",
    "def bad_good_distplot(train, feature):\n",
    "    fig = plt.gcf()\n",
    "    fig.set_size_inches(12.5, 8)\n",
    "    sns.distplot(train[(train.isFraud==0)][feature],fit_kws=False, kde=True)\n",
    "    sns.distplot(train[(train.isFraud==1)][feature],fit_kws=False, kde=True)\n",
    "    plt.legend(labels=['Fraud', 'Normal'])"
   ]
  },
  {
   "cell_type": "code",
   "execution_count": 19,
   "metadata": {},
   "outputs": [
    {
     "data": {
      "text/plain": [
       "5.0    False\n",
       "1.0    False\n",
       "2.0    False\n",
       "3.0    False\n",
       "4.0    False\n",
       "Name: R_emaildomain_bin, dtype: bool"
      ]
     },
     "execution_count": 19,
     "metadata": {},
     "output_type": "execute_result"
    }
   ],
   "source": [
    "train.R_emaildomain_bin.value_counts()/len(train)<0.02"
   ]
  },
  {
   "cell_type": "code",
   "execution_count": 20,
   "metadata": {},
   "outputs": [
    {
     "data": {
      "text/plain": [
       "<matplotlib.axes._subplots.AxesSubplot at 0x219f846ad68>"
      ]
     },
     "execution_count": 20,
     "metadata": {},
     "output_type": "execute_result"
    },
    {
     "data": {
      "image/png": "[encoded data removed]",
      "text/plain": [
       "<Figure size 900x576 with 1 Axes>"
      ]
     },
     "metadata": {},
     "output_type": "display_data"
    }
   ],
   "source": [
    "fig = plt.gcf()\n",
    "fig.set_size_inches(12.5, 8)\n",
    "sns.distplot(train[(train.isFraud==0)&(train.TransactionAmt<2000)]['TransactionAmt'])\n",
    "sns.distplot(train[(train.isFraud==1)&(train.TransactionAmt<2000)]['TransactionAmt'])"
   ]
  },
  {
   "cell_type": "code",
   "execution_count": 21,
   "metadata": {},
   "outputs": [
    {
     "data": {
      "text/plain": [
       "count    506691.000000\n",
       "mean        134.725568\n",
       "std         245.779822\n",
       "min           0.018000\n",
       "25%          40.000000\n",
       "50%          67.950000\n",
       "75%         125.000000\n",
       "max       10270.000000\n",
       "Name: TransactionAmt, dtype: float64"
      ]
     },
     "execution_count": 21,
     "metadata": {},
     "output_type": "execute_result"
    }
   ],
   "source": [
    "test.TransactionAmt.describe()"
   ]
  },
  {
   "cell_type": "code",
   "execution_count": 22,
   "metadata": {},
   "outputs": [],
   "source": [
    "train['TransactionAmt_decimal'] = ((train['TransactionAmt'] - train['TransactionAmt'].astype(int)) * 1000).astype(int)\n",
    "test['TransactionAmt_decimal'] = ((test['TransactionAmt'] - test['TransactionAmt'].astype(int)) * 1000).astype(int)"
   ]
  },
  {
   "cell_type": "code",
   "execution_count": 23,
   "metadata": {},
   "outputs": [
    {
     "data": {
      "image/png": "[encoded data removed]",
      "text/plain": [
       "<Figure size 900x576 with 1 Axes>"
      ]
     },
     "metadata": {},
     "output_type": "display_data"
    }
   ],
   "source": [
    "bad_good_distplot(train,'TransactionAmt_decimal')"
   ]
  },
  {
   "cell_type": "code",
   "execution_count": 24,
   "metadata": {},
   "outputs": [],
   "source": [
    "useful_features = ['TransactionAmt', 'ProductCD', 'card1', 'card2', 'card3', 'card4', 'card5', 'card6', 'addr1', 'addr2', 'dist1',\n",
    "                   'P_emaildomain', 'R_emaildomain', 'C1', 'C2', 'C4', 'C5', 'C6', 'C7', 'C8', 'C9', 'C10', 'C11', 'C12', 'C13',\n",
    "                   'C14', 'D1', 'D2', 'D3', 'D4', 'D5', 'D6', 'D8', 'D9', 'D10', 'D11', 'D12', 'D13', 'D14', 'D15', 'M2', 'M3',\n",
    "                   'M4', 'M5', 'M6', 'M7', 'M8', 'M9', 'V3', 'V4', 'V5', 'V6', 'V7', 'V8', 'V9', 'V10', 'V11', 'V12', 'V13', 'V17',\n",
    "                   'V19', 'V20', 'V29', 'V30', 'V33', 'V34', 'V35', 'V36', 'V37', 'V38', 'V40', 'V44', 'V45', 'V46', 'V47', 'V48',\n",
    "                   'V49', 'V51', 'V52', 'V53', 'V54', 'V56', 'V58', 'V59', 'V60', 'V61', 'V62', 'V63', 'V64', 'V69', 'V70', 'V71',\n",
    "                   'V72', 'V73', 'V74', 'V75', 'V76', 'V78', 'V80', 'V81', 'V82', 'V83', 'V84', 'V85', 'V87', 'V90', 'V91', 'V92',\n",
    "                   'V93', 'V94', 'V95', 'V96', 'V97', 'V99', 'V100', 'V126', 'V127', 'V128', 'V130', 'V131', 'V138', 'V139', 'V140',\n",
    "                   'V143', 'V145', 'V146', 'V147', 'V149', 'V150', 'V151', 'V152', 'V154', 'V156', 'V158', 'V159', 'V160', 'V161',\n",
    "                   'V162', 'V163', 'V164', 'V165', 'V166', 'V167', 'V169', 'V170', 'V171', 'V172', 'V173', 'V175', 'V176', 'V177',\n",
    "                   'V178', 'V180', 'V182', 'V184', 'V187', 'V188', 'V189', 'V195', 'V197', 'V200', 'V201', 'V202', 'V203', 'V204',\n",
    "                   'V205', 'V206', 'V207', 'V208', 'V209', 'V210', 'V212', 'V213', 'V214', 'V215', 'V216', 'V217', 'V219', 'V220',\n",
    "                   'V221', 'V222', 'V223', 'V224', 'V225', 'V226', 'V227', 'V228', 'V229', 'V231', 'V233', 'V234', 'V238', 'V239',\n",
    "                   'V242', 'V243', 'V244', 'V245', 'V246', 'V247', 'V249', 'V251', 'V253', 'V256', 'V257', 'V258', 'V259', 'V261',\n",
    "                   'V262', 'V263', 'V264', 'V265', 'V266', 'V267', 'V268', 'V270', 'V271', 'V272', 'V273', 'V274', 'V275', 'V276',\n",
    "                   'V277', 'V278', 'V279', 'V280', 'V282', 'V283', 'V285', 'V287', 'V288', 'V289', 'V291', 'V292', 'V294', 'V303',\n",
    "                   'V304', 'V306', 'V307', 'V308', 'V310', 'V312', 'V313', 'V314', 'V315', 'V317', 'V322', 'V323', 'V324', 'V326',\n",
    "                   'V329', 'V331', 'V332', 'V333', 'V335', 'V336', 'V338', 'id_01', 'id_02', 'id_03', 'id_05', 'id_06', 'id_09',\n",
    "                   'id_11', 'id_12', 'id_13', 'id_14', 'id_15', 'id_17', 'id_19', 'id_20', 'id_30', 'id_31', 'id_32', 'id_33',\n",
    "                   'id_36', 'id_37', 'id_38', 'DeviceType', 'DeviceInfo', 'is_bigger_mean', 'TransactionDT', \n",
    "                   'R_emaildomain_suffix', 'R_emaildomain_bin', \n",
    "                   'P_emaildomain_suffix', 'P_emaildomain_bin', 'TransactionAmt_decimal']"
   ]
  },
  {
   "cell_type": "code",
   "execution_count": 25,
   "metadata": {},
   "outputs": [],
   "source": [
    "drop_features = [col for col in train.columns if col not in useful_features]\n",
    "#drop_features.remove('isFraud')"
   ]
  },
  {
   "cell_type": "code",
   "execution_count": 26,
   "metadata": {
    "scrolled": true
   },
   "outputs": [],
   "source": [
    "# useful_train = train[useful_features+['isFraud']]\n",
    "# useful_test = test[useful_features]"
   ]
  },
  {
   "cell_type": "code",
   "execution_count": 27,
   "metadata": {},
   "outputs": [
    {
     "data": {
      "text/plain": [
       "(590540, 441)"
      ]
     },
     "execution_count": 27,
     "metadata": {},
     "output_type": "execute_result"
    }
   ],
   "source": [
    "train.shape"
   ]
  },
  {
   "cell_type": "code",
   "execution_count": 28,
   "metadata": {},
   "outputs": [],
   "source": [
    "#useful_train.card4.isnull().sum()"
   ]
  },
  {
   "cell_type": "code",
   "execution_count": 29,
   "metadata": {},
   "outputs": [
    {
     "data": {
      "text/plain": [
       "debit              439938\n",
       "credit             148986\n",
       "debit or credit        30\n",
       "charge card            15\n",
       "Name: card6, dtype: int64"
      ]
     },
     "execution_count": 29,
     "metadata": {},
     "output_type": "execute_result"
    }
   ],
   "source": [
    "train.card6.value_counts()"
   ]
  },
  {
   "cell_type": "code",
   "execution_count": 30,
   "metadata": {},
   "outputs": [
    {
     "data": {
      "text/plain": [
       "0"
      ]
     },
     "execution_count": 30,
     "metadata": {},
     "output_type": "execute_result"
    }
   ],
   "source": [
    "train.TransactionAmt.isnull().sum()"
   ]
  },
  {
   "cell_type": "code",
   "execution_count": 31,
   "metadata": {},
   "outputs": [],
   "source": [
    "card_1_count = train.groupby('card1')['TransactionAmt'].transform('count')"
   ]
  },
  {
   "cell_type": "code",
   "execution_count": 32,
   "metadata": {},
   "outputs": [],
   "source": [
    "train['card1_count'] = card_1_count"
   ]
  },
  {
   "cell_type": "code",
   "execution_count": 33,
   "metadata": {
    "scrolled": true
   },
   "outputs": [
    {
     "data": {
      "text/plain": [
       "14932    14932\n",
       "14162    14162\n",
       "10361    10361\n",
       "10344    10344\n",
       "7945      7945\n",
       "7091      7091\n",
       "6773      6773\n",
       "6771      6771\n",
       "6141      6141\n",
       "5334      5334\n",
       "5172      5172\n",
       "5129      5129\n",
       "4614      4614\n",
       "4410      4410\n",
       "4209      4209\n",
       "4158      4158\n",
       "3977      3977\n",
       "3929      3929\n",
       "3873      3873\n",
       "3748      3748\n",
       "3693      3693\n",
       "3560      3560\n",
       "3490      3490\n",
       "1         3444\n",
       "2         3380\n",
       "3         3312\n",
       "4         3212\n",
       "3166      3166\n",
       "3152      3152\n",
       "5         3110\n",
       "         ...  \n",
       "236        236\n",
       "118        236\n",
       "235        235\n",
       "116        232\n",
       "225        225\n",
       "218        218\n",
       "217        217\n",
       "211        211\n",
       "210        210\n",
       "203        203\n",
       "190        190\n",
       "189        189\n",
       "188        188\n",
       "186        186\n",
       "181        181\n",
       "174        174\n",
       "173        173\n",
       "169        169\n",
       "167        167\n",
       "164        164\n",
       "154        154\n",
       "150        150\n",
       "149        149\n",
       "144        144\n",
       "140        140\n",
       "136        136\n",
       "131        131\n",
       "119        119\n",
       "113        113\n",
       "103        103\n",
       "Name: card1_count, Length: 517, dtype: int64"
      ]
     },
     "execution_count": 33,
     "metadata": {},
     "output_type": "execute_result"
    }
   ],
   "source": [
    "train['card1_count'].value_counts()"
   ]
  },
  {
   "cell_type": "code",
   "execution_count": 34,
   "metadata": {},
   "outputs": [
    {
     "data": {
      "text/plain": [
       "(552913, (590540, 442))"
      ]
     },
     "execution_count": 34,
     "metadata": {},
     "output_type": "execute_result"
    }
   ],
   "source": [
    "train.dist2.isnull().sum(), train.shape"
   ]
  },
  {
   "cell_type": "code",
   "execution_count": 35,
   "metadata": {},
   "outputs": [
    {
     "name": "stdout",
     "output_type": "stream",
     "text": [
      "TransactionAmt 0\n",
      "ProductCD 0\n",
      "card1 0\n",
      "C1 3\n",
      "C2 3\n",
      "C4 3\n",
      "C5 3\n",
      "C6 3\n",
      "C7 3\n",
      "C8 3\n",
      "C9 3\n",
      "C10 3\n",
      "C11 3\n",
      "C12 3\n",
      "C13 4748\n",
      "C14 3\n",
      "is_bigger_mean 0\n",
      "TransactionDT 0\n",
      "R_emaildomain_suffix 0\n",
      "R_emaildomain_bin 0\n",
      "P_emaildomain_suffix 0\n",
      "P_emaildomain_bin 0\n",
      "TransactionAmt_decimal 0\n"
     ]
    }
   ],
   "source": [
    "for feat in useful_features:\n",
    "    if train[feat].isnull().sum()==0:\n",
    "        print(feat, test[feat].isnull().sum())"
   ]
  },
  {
   "cell_type": "code",
   "execution_count": 36,
   "metadata": {},
   "outputs": [
    {
     "data": {
      "text/html": [
       "<div>\n",
       "<style scoped>\n",
       "    .dataframe tbody tr th:only-of-type {\n",
       "        vertical-align: middle;\n",
       "    }\n",
       "\n",
       "    .dataframe tbody tr th {\n",
       "        vertical-align: top;\n",
       "    }\n",
       "\n",
       "    .dataframe thead th {\n",
       "        text-align: right;\n",
       "    }\n",
       "</style>\n",
       "<table border=\"1\" class=\"dataframe\">\n",
       "  <thead>\n",
       "    <tr style=\"text-align: right;\">\n",
       "      <th></th>\n",
       "      <th>C1</th>\n",
       "      <th>C3</th>\n",
       "      <th>C4</th>\n",
       "      <th>C7</th>\n",
       "      <th>C8</th>\n",
       "    </tr>\n",
       "    <tr>\n",
       "      <th>TransactionID</th>\n",
       "      <th></th>\n",
       "      <th></th>\n",
       "      <th></th>\n",
       "      <th></th>\n",
       "      <th></th>\n",
       "    </tr>\n",
       "  </thead>\n",
       "  <tbody>\n",
       "    <tr>\n",
       "      <th>4032462</th>\n",
       "      <td>NaN</td>\n",
       "      <td>NaN</td>\n",
       "      <td>NaN</td>\n",
       "      <td>NaN</td>\n",
       "      <td>NaN</td>\n",
       "    </tr>\n",
       "    <tr>\n",
       "      <th>4032486</th>\n",
       "      <td>NaN</td>\n",
       "      <td>NaN</td>\n",
       "      <td>NaN</td>\n",
       "      <td>NaN</td>\n",
       "      <td>NaN</td>\n",
       "    </tr>\n",
       "    <tr>\n",
       "      <th>4032489</th>\n",
       "      <td>NaN</td>\n",
       "      <td>NaN</td>\n",
       "      <td>NaN</td>\n",
       "      <td>NaN</td>\n",
       "      <td>NaN</td>\n",
       "    </tr>\n",
       "  </tbody>\n",
       "</table>\n",
       "</div>"
      ],
      "text/plain": [
       "               C1  C3  C4  C7  C8\n",
       "TransactionID                    \n",
       "4032462       NaN NaN NaN NaN NaN\n",
       "4032486       NaN NaN NaN NaN NaN\n",
       "4032489       NaN NaN NaN NaN NaN"
      ]
     },
     "execution_count": 36,
     "metadata": {},
     "output_type": "execute_result"
    }
   ],
   "source": [
    "test[test.C1.isnull()][['C1','C3', 'C4','C7', 'C8']]"
   ]
  },
  {
   "cell_type": "code",
   "execution_count": 48,
   "metadata": {},
   "outputs": [],
   "source": [
    "train['amt_product_mean']=train['TransactionAmt']/train.groupby('card1')['TransactionAmt'].transform('mean')"
   ]
  },
  {
   "cell_type": "code",
   "execution_count": 49,
   "metadata": {
    "scrolled": true
   },
   "outputs": [
    {
     "data": {
      "text/plain": [
       "isFraud\n",
       "0    0.993358\n",
       "1    1.183173\n",
       "Name: amt_product_mean, dtype: float64"
      ]
     },
     "execution_count": 49,
     "metadata": {},
     "output_type": "execute_result"
    }
   ],
   "source": [
    "train[['isFraud', 'amt_product_mean']].groupby('isFraud')['amt_product_mean'].mean()"
   ]
  },
  {
   "cell_type": "code",
   "execution_count": 50,
   "metadata": {},
   "outputs": [
    {
     "data": {
      "text/plain": [
       "(1.0000000000000198, 1.3662192705886542)"
      ]
     },
     "execution_count": 50,
     "metadata": {},
     "output_type": "execute_result"
    }
   ],
   "source": [
    "train.amt_product_mean.mean(), train.amt_product_mean.std()"
   ]
  },
  {
   "cell_type": "code",
   "execution_count": 41,
   "metadata": {},
   "outputs": [],
   "source": [
    "a = train.groupby('ProductCD', as_index=False)['TransactionAmt'].mean()\n",
    "a.rename({'TransactionAmt':'amt_product_mean'}, axis=1, inplace=True)"
   ]
  },
  {
   "cell_type": "code",
   "execution_count": 42,
   "metadata": {},
   "outputs": [],
   "source": [
    "train_2 = train[['ProductCD', 'TransactionAmt']].merge(a, how='left', on=['ProductCD'])"
   ]
  },
  {
   "cell_type": "code",
   "execution_count": 54,
   "metadata": {},
   "outputs": [],
   "source": [
    "a = pd.concat([train[['TransactionAmt']], test[['TransactionAmt']]])"
   ]
  },
  {
   "cell_type": "code",
   "execution_count": 57,
   "metadata": {},
   "outputs": [
    {
     "data": {
      "text/html": [
       "<div>\n",
       "<style scoped>\n",
       "    .dataframe tbody tr th:only-of-type {\n",
       "        vertical-align: middle;\n",
       "    }\n",
       "\n",
       "    .dataframe tbody tr th {\n",
       "        vertical-align: top;\n",
       "    }\n",
       "\n",
       "    .dataframe thead th {\n",
       "        text-align: right;\n",
       "    }\n",
       "</style>\n",
       "<table border=\"1\" class=\"dataframe\">\n",
       "  <thead>\n",
       "    <tr style=\"text-align: right;\">\n",
       "      <th></th>\n",
       "      <th>TransactionAmt</th>\n",
       "    </tr>\n",
       "    <tr>\n",
       "      <th>TransactionID</th>\n",
       "      <th></th>\n",
       "    </tr>\n",
       "  </thead>\n",
       "  <tbody>\n",
       "    <tr>\n",
       "      <th>2987000</th>\n",
       "      <td>68.500</td>\n",
       "    </tr>\n",
       "    <tr>\n",
       "      <th>2987001</th>\n",
       "      <td>29.000</td>\n",
       "    </tr>\n",
       "    <tr>\n",
       "      <th>2987002</th>\n",
       "      <td>59.000</td>\n",
       "    </tr>\n",
       "    <tr>\n",
       "      <th>2987003</th>\n",
       "      <td>50.000</td>\n",
       "    </tr>\n",
       "    <tr>\n",
       "      <th>2987004</th>\n",
       "      <td>50.000</td>\n",
       "    </tr>\n",
       "    <tr>\n",
       "      <th>2987005</th>\n",
       "      <td>49.000</td>\n",
       "    </tr>\n",
       "    <tr>\n",
       "      <th>2987006</th>\n",
       "      <td>159.000</td>\n",
       "    </tr>\n",
       "    <tr>\n",
       "      <th>2987007</th>\n",
       "      <td>422.500</td>\n",
       "    </tr>\n",
       "    <tr>\n",
       "      <th>2987008</th>\n",
       "      <td>15.000</td>\n",
       "    </tr>\n",
       "    <tr>\n",
       "      <th>2987009</th>\n",
       "      <td>117.000</td>\n",
       "    </tr>\n",
       "    <tr>\n",
       "      <th>2987010</th>\n",
       "      <td>75.887</td>\n",
       "    </tr>\n",
       "    <tr>\n",
       "      <th>2987011</th>\n",
       "      <td>16.495</td>\n",
       "    </tr>\n",
       "    <tr>\n",
       "      <th>2987012</th>\n",
       "      <td>50.000</td>\n",
       "    </tr>\n",
       "    <tr>\n",
       "      <th>2987013</th>\n",
       "      <td>40.000</td>\n",
       "    </tr>\n",
       "    <tr>\n",
       "      <th>2987014</th>\n",
       "      <td>10.500</td>\n",
       "    </tr>\n",
       "    <tr>\n",
       "      <th>2987015</th>\n",
       "      <td>57.950</td>\n",
       "    </tr>\n",
       "    <tr>\n",
       "      <th>2987016</th>\n",
       "      <td>30.000</td>\n",
       "    </tr>\n",
       "    <tr>\n",
       "      <th>2987017</th>\n",
       "      <td>100.000</td>\n",
       "    </tr>\n",
       "    <tr>\n",
       "      <th>2987018</th>\n",
       "      <td>47.950</td>\n",
       "    </tr>\n",
       "    <tr>\n",
       "      <th>2987019</th>\n",
       "      <td>186.000</td>\n",
       "    </tr>\n",
       "    <tr>\n",
       "      <th>2987020</th>\n",
       "      <td>39.000</td>\n",
       "    </tr>\n",
       "    <tr>\n",
       "      <th>2987021</th>\n",
       "      <td>159.950</td>\n",
       "    </tr>\n",
       "    <tr>\n",
       "      <th>2987022</th>\n",
       "      <td>50.000</td>\n",
       "    </tr>\n",
       "    <tr>\n",
       "      <th>2987023</th>\n",
       "      <td>107.950</td>\n",
       "    </tr>\n",
       "    <tr>\n",
       "      <th>2987024</th>\n",
       "      <td>73.950</td>\n",
       "    </tr>\n",
       "    <tr>\n",
       "      <th>2987025</th>\n",
       "      <td>107.950</td>\n",
       "    </tr>\n",
       "    <tr>\n",
       "      <th>2987026</th>\n",
       "      <td>184.000</td>\n",
       "    </tr>\n",
       "    <tr>\n",
       "      <th>2987027</th>\n",
       "      <td>47.950</td>\n",
       "    </tr>\n",
       "    <tr>\n",
       "      <th>2987028</th>\n",
       "      <td>20.000</td>\n",
       "    </tr>\n",
       "    <tr>\n",
       "      <th>2987029</th>\n",
       "      <td>36.990</td>\n",
       "    </tr>\n",
       "    <tr>\n",
       "      <th>...</th>\n",
       "      <td>...</td>\n",
       "    </tr>\n",
       "    <tr>\n",
       "      <th>3577510</th>\n",
       "      <td>24.500</td>\n",
       "    </tr>\n",
       "    <tr>\n",
       "      <th>3577511</th>\n",
       "      <td>130.950</td>\n",
       "    </tr>\n",
       "    <tr>\n",
       "      <th>3577512</th>\n",
       "      <td>764.000</td>\n",
       "    </tr>\n",
       "    <tr>\n",
       "      <th>3577513</th>\n",
       "      <td>107.950</td>\n",
       "    </tr>\n",
       "    <tr>\n",
       "      <th>3577514</th>\n",
       "      <td>159.950</td>\n",
       "    </tr>\n",
       "    <tr>\n",
       "      <th>3577515</th>\n",
       "      <td>108.500</td>\n",
       "    </tr>\n",
       "    <tr>\n",
       "      <th>3577516</th>\n",
       "      <td>760.760</td>\n",
       "    </tr>\n",
       "    <tr>\n",
       "      <th>3577517</th>\n",
       "      <td>764.000</td>\n",
       "    </tr>\n",
       "    <tr>\n",
       "      <th>3577518</th>\n",
       "      <td>49.000</td>\n",
       "    </tr>\n",
       "    <tr>\n",
       "      <th>3577519</th>\n",
       "      <td>1659.950</td>\n",
       "    </tr>\n",
       "    <tr>\n",
       "      <th>3577520</th>\n",
       "      <td>93.000</td>\n",
       "    </tr>\n",
       "    <tr>\n",
       "      <th>3577521</th>\n",
       "      <td>48.877</td>\n",
       "    </tr>\n",
       "    <tr>\n",
       "      <th>3577522</th>\n",
       "      <td>54.500</td>\n",
       "    </tr>\n",
       "    <tr>\n",
       "      <th>3577523</th>\n",
       "      <td>58.950</td>\n",
       "    </tr>\n",
       "    <tr>\n",
       "      <th>3577524</th>\n",
       "      <td>75.000</td>\n",
       "    </tr>\n",
       "    <tr>\n",
       "      <th>3577525</th>\n",
       "      <td>57.950</td>\n",
       "    </tr>\n",
       "    <tr>\n",
       "      <th>3577526</th>\n",
       "      <td>250.000</td>\n",
       "    </tr>\n",
       "    <tr>\n",
       "      <th>3577527</th>\n",
       "      <td>189.950</td>\n",
       "    </tr>\n",
       "    <tr>\n",
       "      <th>3577528</th>\n",
       "      <td>279.950</td>\n",
       "    </tr>\n",
       "    <tr>\n",
       "      <th>3577529</th>\n",
       "      <td>73.838</td>\n",
       "    </tr>\n",
       "    <tr>\n",
       "      <th>3577530</th>\n",
       "      <td>400.780</td>\n",
       "    </tr>\n",
       "    <tr>\n",
       "      <th>3577531</th>\n",
       "      <td>400.000</td>\n",
       "    </tr>\n",
       "    <tr>\n",
       "      <th>3577532</th>\n",
       "      <td>204.970</td>\n",
       "    </tr>\n",
       "    <tr>\n",
       "      <th>3577533</th>\n",
       "      <td>107.950</td>\n",
       "    </tr>\n",
       "    <tr>\n",
       "      <th>3577534</th>\n",
       "      <td>67.505</td>\n",
       "    </tr>\n",
       "    <tr>\n",
       "      <th>3577535</th>\n",
       "      <td>49.000</td>\n",
       "    </tr>\n",
       "    <tr>\n",
       "      <th>3577536</th>\n",
       "      <td>39.500</td>\n",
       "    </tr>\n",
       "    <tr>\n",
       "      <th>3577537</th>\n",
       "      <td>30.950</td>\n",
       "    </tr>\n",
       "    <tr>\n",
       "      <th>3577538</th>\n",
       "      <td>117.000</td>\n",
       "    </tr>\n",
       "    <tr>\n",
       "      <th>3577539</th>\n",
       "      <td>279.950</td>\n",
       "    </tr>\n",
       "  </tbody>\n",
       "</table>\n",
       "<p>590540 rows × 1 columns</p>\n",
       "</div>"
      ],
      "text/plain": [
       "               TransactionAmt\n",
       "TransactionID                \n",
       "2987000                68.500\n",
       "2987001                29.000\n",
       "2987002                59.000\n",
       "2987003                50.000\n",
       "2987004                50.000\n",
       "2987005                49.000\n",
       "2987006               159.000\n",
       "2987007               422.500\n",
       "2987008                15.000\n",
       "2987009               117.000\n",
       "2987010                75.887\n",
       "2987011                16.495\n",
       "2987012                50.000\n",
       "2987013                40.000\n",
       "2987014                10.500\n",
       "2987015                57.950\n",
       "2987016                30.000\n",
       "2987017               100.000\n",
       "2987018                47.950\n",
       "2987019               186.000\n",
       "2987020                39.000\n",
       "2987021               159.950\n",
       "2987022                50.000\n",
       "2987023               107.950\n",
       "2987024                73.950\n",
       "2987025               107.950\n",
       "2987026               184.000\n",
       "2987027                47.950\n",
       "2987028                20.000\n",
       "2987029                36.990\n",
       "...                       ...\n",
       "3577510                24.500\n",
       "3577511               130.950\n",
       "3577512               764.000\n",
       "3577513               107.950\n",
       "3577514               159.950\n",
       "3577515               108.500\n",
       "3577516               760.760\n",
       "3577517               764.000\n",
       "3577518                49.000\n",
       "3577519              1659.950\n",
       "3577520                93.000\n",
       "3577521                48.877\n",
       "3577522                54.500\n",
       "3577523                58.950\n",
       "3577524                75.000\n",
       "3577525                57.950\n",
       "3577526               250.000\n",
       "3577527               189.950\n",
       "3577528               279.950\n",
       "3577529                73.838\n",
       "3577530               400.780\n",
       "3577531               400.000\n",
       "3577532               204.970\n",
       "3577533               107.950\n",
       "3577534                67.505\n",
       "3577535                49.000\n",
       "3577536                39.500\n",
       "3577537                30.950\n",
       "3577538               117.000\n",
       "3577539               279.950\n",
       "\n",
       "[590540 rows x 1 columns]"
      ]
     },
     "execution_count": 57,
     "metadata": {},
     "output_type": "execute_result"
    }
   ],
   "source": [
    "a.loc[train.index]"
   ]
  },
  {
   "cell_type": "code",
   "execution_count": 58,
   "metadata": {},
   "outputs": [
    {
     "name": "stdout",
     "output_type": "stream",
     "text": [
      "ProductCD\n",
      "card4\n",
      "card6\n",
      "P_emaildomain\n",
      "R_emaildomain\n",
      "M1\n",
      "M2\n",
      "M3\n",
      "M4\n",
      "M5\n",
      "M6\n",
      "M7\n",
      "M8\n",
      "M9\n",
      "id_12\n",
      "id_15\n",
      "id_16\n",
      "id_23\n",
      "id_27\n",
      "id_28\n",
      "id_29\n",
      "id_30\n",
      "id_31\n",
      "id_33\n",
      "id_34\n",
      "id_35\n",
      "id_36\n",
      "id_37\n",
      "id_38\n",
      "DeviceType\n",
      "DeviceInfo\n"
     ]
    }
   ],
   "source": [
    "for f in list(test.columns):\n",
    "    if train[f].dtype=='object' or test[f].dtype=='object': \n",
    "        print(f)"
   ]
  },
  {
   "cell_type": "code",
   "execution_count": 88,
   "metadata": {
    "scrolled": true
   },
   "outputs": [
    {
     "data": {
      "text/plain": [
       "Windows                           47722\n",
       "iOS Device                        19782\n",
       "MacOS                             12573\n",
       "Trident/7.0                        7440\n",
       "rv:11.0                            1901\n",
       "rv:57.0                             962\n",
       "SM-J700M Build/MMB29K               549\n",
       "SM-G610M Build/MMB29K               461\n",
       "SM-G531H Build/LMY48B               410\n",
       "rv:59.0                             362\n",
       "SM-G935F Build/NRD90M               334\n",
       "SM-G955U Build/NRD90M               328\n",
       "SM-G532M Build/MMB29T               316\n",
       "ALE-L23 Build/HuaweiALE-L23         312\n",
       "SM-G950U Build/NRD90M               290\n",
       "SM-G930V Build/NRD90M               274\n",
       "rv:58.0                             269\n",
       "rv:52.0                             256\n",
       "SAMSUNG                             235\n",
       "SM-G950F Build/NRD90M               225\n",
       "Moto G (4) Build/NPJ25.93-14.7      219\n",
       "SM-N950U Build/NMF26X               209\n",
       "SM-A300H Build/LRX22G               203\n",
       "hi6210sft Build/MRA58K              190\n",
       "SM-J730GM Build/NRD90M              184\n",
       "SM-G570M Build/MMB29K               182\n",
       "rv:48.0                             178\n",
       "CAM-L03 Build/HUAWEICAM-L03         172\n",
       "SM-J320M Build/LMY47V               171\n",
       "LG-M700 Build/NMF26X                169\n",
       "                                  ...  \n",
       "SGH-M919N                             1\n",
       "PLE-701L                              1\n",
       "SM-A500W                              1\n",
       "SLA-L22                               1\n",
       "SM-J700T1                             1\n",
       "ASUS_A001                             1\n",
       "Kylin                                 1\n",
       "SM-G360F                              1\n",
       "SM-J120M                              1\n",
       "STELLAR                               1\n",
       "C2104                                 1\n",
       "SAMSUNG-SM-T537A                      1\n",
       "AOC_U706G                             1\n",
       "Northwell                             1\n",
       "D5503                                 1\n",
       "NX16A8116KP                           1\n",
       "SM-T530                               1\n",
       "SM-S820L                              1\n",
       "MYA-L23                               1\n",
       "SM-S907VL                             1\n",
       "SM-G925I                              1\n",
       "LG-H931                               1\n",
       "SGP611                                1\n",
       "SM-S975L                              1\n",
       "HTC_Desire_820                        1\n",
       "D5106                                 1\n",
       "A3-A20                                1\n",
       "LG-D400                               1\n",
       "LG-D959                               1\n",
       "SM-C900F                              1\n",
       "Name: DeviceInfo, Length: 1786, dtype: int64"
      ]
     },
     "execution_count": 88,
     "metadata": {},
     "output_type": "execute_result"
    }
   ],
   "source": [
    "train.DeviceInfo.value_counts()"
   ]
  },
  {
   "cell_type": "code",
   "execution_count": 97,
   "metadata": {},
   "outputs": [
    {
     "data": {
      "text/plain": [
       "65706"
      ]
     },
     "execution_count": 97,
     "metadata": {},
     "output_type": "execute_result"
    }
   ],
   "source": [
    "train.addr1.isnull().sum()"
   ]
  },
  {
   "cell_type": "code",
   "execution_count": 99,
   "metadata": {},
   "outputs": [
    {
     "data": {
      "text/plain": [
       "array([[nan, nan],\n",
       "       [nan, nan]])"
      ]
     },
     "execution_count": 99,
     "metadata": {},
     "output_type": "execute_result"
    }
   ],
   "source": [
    "np.corrcoef(train.card2, train.card5)"
   ]
  },
  {
   "cell_type": "code",
   "execution_count": 119,
   "metadata": {
    "scrolled": true
   },
   "outputs": [],
   "source": [
    "train['huy'] = (train.card2.fillna(-999).astype(int).astype(str) + train.card5.fillna(-999).astype(int).astype(str)).factorize()[0]"
   ]
  },
  {
   "cell_type": "code",
   "execution_count": 110,
   "metadata": {
    "scrolled": true
   },
   "outputs": [
    {
     "data": {
      "text/plain": [
       "226.0    296546\n",
       "224.0     81513\n",
       "166.0     57140\n",
       "102.0     29105\n",
       "117.0     25941\n",
       "138.0     19737\n",
       "195.0     16945\n",
       "137.0     11720\n",
       "126.0     10298\n",
       "219.0      9924\n",
       "202.0      7103\n",
       "162.0      4524\n",
       "229.0      2048\n",
       "197.0      1551\n",
       "150.0      1338\n",
       "100.0       978\n",
       "223.0       936\n",
       "118.0       752\n",
       "190.0       744\n",
       "146.0       671\n",
       "198.0       670\n",
       "236.0       647\n",
       "185.0       474\n",
       "203.0       428\n",
       "147.0       417\n",
       "141.0       341\n",
       "129.0       325\n",
       "142.0       277\n",
       "194.0       259\n",
       "183.0       258\n",
       "          ...  \n",
       "172.0         3\n",
       "216.0         3\n",
       "231.0         2\n",
       "140.0         2\n",
       "113.0         2\n",
       "191.0         2\n",
       "145.0         2\n",
       "205.0         2\n",
       "200.0         2\n",
       "152.0         2\n",
       "123.0         2\n",
       "160.0         2\n",
       "105.0         2\n",
       "115.0         1\n",
       "120.0         1\n",
       "206.0         1\n",
       "209.0         1\n",
       "196.0         1\n",
       "201.0         1\n",
       "125.0         1\n",
       "187.0         1\n",
       "165.0         1\n",
       "221.0         1\n",
       "181.0         1\n",
       "178.0         1\n",
       "175.0         1\n",
       "173.0         1\n",
       "167.0         1\n",
       "234.0         1\n",
       "204.0         1\n",
       "Name: card5, Length: 119, dtype: int64"
      ]
     },
     "execution_count": 110,
     "metadata": {},
     "output_type": "execute_result"
    }
   ],
   "source": [
    "train.card5.value_counts()"
   ]
  },
  {
   "cell_type": "markdown",
   "metadata": {},
   "source": [
    "## M1-M9 features wtf?"
   ]
  },
  {
   "cell_type": "code",
   "execution_count": 10,
   "metadata": {},
   "outputs": [
    {
     "data": {
      "text/html": [
       "<div>\n",
       "<style scoped>\n",
       "    .dataframe tbody tr th:only-of-type {\n",
       "        vertical-align: middle;\n",
       "    }\n",
       "\n",
       "    .dataframe tbody tr th {\n",
       "        vertical-align: top;\n",
       "    }\n",
       "\n",
       "    .dataframe thead th {\n",
       "        text-align: right;\n",
       "    }\n",
       "</style>\n",
       "<table border=\"1\" class=\"dataframe\">\n",
       "  <thead>\n",
       "    <tr style=\"text-align: right;\">\n",
       "      <th></th>\n",
       "      <th>card1</th>\n",
       "      <th>card2</th>\n",
       "      <th>card3</th>\n",
       "      <th>card4</th>\n",
       "      <th>card5</th>\n",
       "      <th>card6</th>\n",
       "      <th>addr1</th>\n",
       "      <th>addr2</th>\n",
       "    </tr>\n",
       "    <tr>\n",
       "      <th>TransactionID</th>\n",
       "      <th></th>\n",
       "      <th></th>\n",
       "      <th></th>\n",
       "      <th></th>\n",
       "      <th></th>\n",
       "      <th></th>\n",
       "      <th></th>\n",
       "      <th></th>\n",
       "    </tr>\n",
       "  </thead>\n",
       "  <tbody>\n",
       "  </tbody>\n",
       "</table>\n",
       "</div>"
      ],
      "text/plain": [
       "Empty DataFrame\n",
       "Columns: [card1, card2, card3, card4, card5, card6, addr1, addr2]\n",
       "Index: []"
      ]
     },
     "execution_count": 10,
     "metadata": {},
     "output_type": "execute_result"
    }
   ],
   "source": [
    "train[train.M1==1][['card1','card2','card3', 'card4', 'card5', 'card6', 'addr1', 'addr2']]"
   ]
  },
  {
   "cell_type": "code",
   "execution_count": 17,
   "metadata": {},
   "outputs": [
    {
     "data": {
      "text/plain": [
       "(T    319415\n",
       " F        25\n",
       " Name: M1, dtype: int64, 271100)"
      ]
     },
     "execution_count": 17,
     "metadata": {},
     "output_type": "execute_result"
    }
   ],
   "source": [
    "train.M1.value_counts(), train['M1'].isnull().sum()"
   ]
  },
  {
   "cell_type": "code",
   "execution_count": 19,
   "metadata": {
    "scrolled": true
   },
   "outputs": [
    {
     "name": "stdout",
     "output_type": "stream",
     "text": [
      "M1 271100\n",
      "T    319415\n",
      "F        25\n",
      "Name: M1, dtype: int64\n",
      "--------------------------------------------------\n",
      "M2 271100\n",
      "T    285468\n",
      "F     33972\n",
      "Name: M2, dtype: int64\n",
      "--------------------------------------------------\n",
      "M3 271100\n",
      "T    251731\n",
      "F     67709\n",
      "Name: M3, dtype: int64\n",
      "--------------------------------------------------\n",
      "M4 281444\n",
      "M0    196405\n",
      "M2     59865\n",
      "M1     52826\n",
      "Name: M4, dtype: int64\n",
      "--------------------------------------------------\n",
      "M5 350482\n",
      "F    132491\n",
      "T    107567\n",
      "Name: M5, dtype: int64\n",
      "--------------------------------------------------\n",
      "M6 169360\n",
      "F    227856\n",
      "T    193324\n",
      "Name: M6, dtype: int64\n",
      "--------------------------------------------------\n",
      "M7 346265\n",
      "F    211374\n",
      "T     32901\n",
      "Name: M7, dtype: int64\n",
      "--------------------------------------------------\n",
      "M8 346252\n",
      "F    155251\n",
      "T     89037\n",
      "Name: M8, dtype: int64\n",
      "--------------------------------------------------\n",
      "M9 346252\n",
      "T    205656\n",
      "F     38632\n",
      "Name: M9, dtype: int64\n",
      "--------------------------------------------------\n"
     ]
    }
   ],
   "source": [
    "for col in ['M1', 'M2', 'M3', 'M4', 'M5', 'M6', 'M7', 'M8', 'M9']:\n",
    "    print(col, train[col].isnull().sum())\n",
    "    print(train[col].value_counts())\n",
    "    print('-'*50)"
   ]
  },
  {
   "cell_type": "code",
   "execution_count": 20,
   "metadata": {},
   "outputs": [],
   "source": [
    "train['M1M2M3'] = train['M1'].fillna('N') + train['M2'].fillna('N') + train['M3'].fillna('N')"
   ]
  },
  {
   "cell_type": "code",
   "execution_count": 25,
   "metadata": {},
   "outputs": [],
   "source": [
    "train['M1M2M3'] = train['M1M2M3'].apply(lambda x: 'FFF' if 'F' in x else x)"
   ]
  },
  {
   "cell_type": "code",
   "execution_count": 26,
   "metadata": {},
   "outputs": [
    {
     "data": {
      "text/plain": [
       "M1M2M3\n",
       "FFF    0.030262\n",
       "NNN    0.052826\n",
       "TTT    0.017054\n",
       "Name: isFraud, dtype: float64"
      ]
     },
     "execution_count": 26,
     "metadata": {},
     "output_type": "execute_result"
    }
   ],
   "source": [
    "train.groupby('M1M2M3')['isFraud'].mean()"
   ]
  },
  {
   "cell_type": "code",
   "execution_count": 24,
   "metadata": {},
   "outputs": [
    {
     "data": {
      "text/plain": [
       "TransactionID\n",
       "2987000    TTT\n",
       "2987001    NNN\n",
       "2987002    TTT\n",
       "2987003    NNN\n",
       "2987004    NNN\n",
       "2987005    TTT\n",
       "2987006    TTT\n",
       "2987007    NNN\n",
       "2987008    NNN\n",
       "2987009    TTT\n",
       "2987010    NNN\n",
       "2987011    NNN\n",
       "2987012    NNN\n",
       "2987013    NNN\n",
       "2987014    NNN\n",
       "2987015    TTF\n",
       "2987016    NNN\n",
       "2987017    NNN\n",
       "2987018    TTF\n",
       "2987019    NNN\n",
       "2987020    TTT\n",
       "2987021    NNN\n",
       "2987022    NNN\n",
       "2987023    TTT\n",
       "2987024    NNN\n",
       "2987025    NNN\n",
       "2987026    NNN\n",
       "2987027    TTF\n",
       "2987028    NNN\n",
       "2987029    NNN\n",
       "          ... \n",
       "3577510    TFF\n",
       "3577511    TTT\n",
       "3577512    TTT\n",
       "3577513    TTT\n",
       "3577514    TFF\n",
       "3577515    TTT\n",
       "3577516    TTT\n",
       "3577517    TTT\n",
       "3577518    TTF\n",
       "3577519    TTT\n",
       "3577520    TTT\n",
       "3577521    NNN\n",
       "3577522    TTT\n",
       "3577523    NNN\n",
       "3577524    TFF\n",
       "3577525    TTT\n",
       "3577526    NNN\n",
       "3577527    TFF\n",
       "3577528    TFF\n",
       "3577529    NNN\n",
       "3577530    NNN\n",
       "3577531    NNN\n",
       "3577532    TTT\n",
       "3577533    TTT\n",
       "3577534    NNN\n",
       "3577535    TTT\n",
       "3577536    TFF\n",
       "3577537    TFF\n",
       "3577538    TTT\n",
       "3577539    TFF\n",
       "Name: M1M2M3, Length: 590540, dtype: object"
      ]
     },
     "execution_count": 24,
     "metadata": {},
     "output_type": "execute_result"
    }
   ],
   "source": []
  }
 ],
 "metadata": {
  "kernelspec": {
   "display_name": "Python 3",
   "language": "python",
   "name": "python3"
  },
  "language_info": {
   "codemirror_mode": {
    "name": "ipython",
    "version": 3
   },
   "file_extension": ".py",
   "mimetype": "text/x-python",
   "name": "python",
   "nbconvert_exporter": "python",
   "pygments_lexer": "ipython3",
   "version": "3.6.5"
  }
 },
 "nbformat": 4,
 "nbformat_minor": 2
}
